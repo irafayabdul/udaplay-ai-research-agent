{
 "cells": [
  {
   "cell_type": "markdown",
   "id": "6fdd0bcb",
   "metadata": {},
   "source": [
    "# [STARTER] Udaplay Project"
   ]
  },
  {
   "cell_type": "markdown",
   "id": "9325b035",
   "metadata": {},
   "source": [
    "## Part 01 - Offline RAG\n",
    "\n",
    "In this part of the project, you'll build your VectorDB using Chroma.\n",
    "\n",
    "The data is inside folder `project/starter/games`. Each file will become a document in the collection you'll create.\n",
    "Example.:\n",
    "```json\n",
    "{\n",
    "  \"Name\": \"Gran Turismo\",\n",
    "  \"Platform\": \"PlayStation 1\",\n",
    "  \"Genre\": \"Racing\",\n",
    "  \"Publisher\": \"Sony Computer Entertainment\",\n",
    "  \"Description\": \"A realistic racing simulator featuring a wide array of cars and tracks, setting a new standard for the genre.\",\n",
    "  \"YearOfRelease\": 1997\n",
    "}\n",
    "```\n"
   ]
  },
  {
   "cell_type": "markdown",
   "id": "2b42de90",
   "metadata": {},
   "source": [
    "### Setup"
   ]
  },
  {
   "cell_type": "code",
   "id": "61283b25",
   "metadata": {
    "ExecuteTime": {
     "end_time": "2025-09-27T18:08:04.642995Z",
     "start_time": "2025-09-27T18:08:04.633989Z"
    }
   },
   "source": [
    "# Only needed for Udacity workspace\n",
    "\n",
    "import importlib.util\n",
    "import sys\n",
    "\n",
    "# Check if 'pysqlite3' is available before importing\n",
    "if importlib.util.find_spec(\"pysqlite3\") is not None:\n",
    "    import pysqlite3\n",
    "    sys.modules['sqlite3'] = sys.modules.pop('pysqlite3')"
   ],
   "outputs": [],
   "execution_count": 1
  },
  {
   "cell_type": "code",
   "id": "a8d56169",
   "metadata": {
    "ExecuteTime": {
     "end_time": "2025-09-27T18:08:08.293946Z",
     "start_time": "2025-09-27T18:08:06.462190Z"
    }
   },
   "source": [
    "import os\n",
    "import json\n",
    "import chromadb\n",
    "# from chromadb.utils import embedding_functions\n",
    "from lib.documents import Document\n",
    "from lib.vector_db import VectorStoreManager\n",
    "from dotenv import load_dotenv"
   ],
   "outputs": [],
   "execution_count": 2
  },
  {
   "cell_type": "code",
   "id": "fd10c06e",
   "metadata": {
    "ExecuteTime": {
     "end_time": "2025-09-27T11:10:18.258101Z",
     "start_time": "2025-09-27T11:10:18.254661Z"
    }
   },
   "source": [
    "# TODO: Create a .env file with the following variables\n",
    "# OPENAI_API_KEY=\"YOUR_KEY\"\n",
    "# CHROMA_OPENAI_API_KEY=\"YOUR_KEY\"\n",
    "# TAVILY_API_KEY=\"YOUR_KEY\""
   ],
   "outputs": [],
   "execution_count": 3
  },
  {
   "metadata": {
    "ExecuteTime": {
     "end_time": "2025-09-27T18:08:10.272564Z",
     "start_time": "2025-09-27T18:08:10.259844Z"
    }
   },
   "cell_type": "code",
   "source": [
    "# TODO: Load environment variables\n",
    "load_dotenv()"
   ],
   "id": "2d14cc64f732f9a1",
   "outputs": [
    {
     "name": "stderr",
     "output_type": "stream",
     "text": [
      "python-dotenv could not parse statement starting at line 4\n",
      "python-dotenv could not parse statement starting at line 5\n"
     ]
    },
    {
     "data": {
      "text/plain": [
       "True"
      ]
     },
     "execution_count": 3,
     "metadata": {},
     "output_type": "execute_result"
    }
   ],
   "execution_count": 3
  },
  {
   "metadata": {},
   "cell_type": "markdown",
   "source": "### VectorDB Instance",
   "id": "7c6c7e37de566759"
  },
  {
   "metadata": {
    "ExecuteTime": {
     "end_time": "2025-09-27T18:08:21.423053Z",
     "start_time": "2025-09-27T18:08:21.258141Z"
    }
   },
   "cell_type": "code",
   "source": [
    "# TODO: Instantiate your ChromaDB Client\n",
    "# Choose any path you want\n",
    "chroma_client = chromadb.PersistentClient(path=\"chromadb\")"
   ],
   "id": "9e3bb442bd6fffa8",
   "outputs": [],
   "execution_count": 4
  },
  {
   "metadata": {},
   "cell_type": "markdown",
   "source": "### Collection",
   "id": "e78da6be2c6628e6"
  },
  {
   "metadata": {
    "ExecuteTime": {
     "end_time": "2025-09-27T18:08:31.332253Z",
     "start_time": "2025-09-27T18:08:31.329520Z"
    }
   },
   "cell_type": "code",
   "source": [
    "# TODO: Pick one embedding function\n",
    "# If picking something different than openai, \n",
    "# make sure you use the same when loading it\n",
    "# embedding_fn = embedding_functions.OpenAIEmbeddingFunction(api_base=\"https://openai.vocareum.com/v1\")"
   ],
   "id": "f3628aa6271a0963",
   "outputs": [],
   "execution_count": 5
  },
  {
   "metadata": {
    "ExecuteTime": {
     "end_time": "2025-09-27T18:08:36.829017Z",
     "start_time": "2025-09-27T18:08:36.492155Z"
    }
   },
   "cell_type": "code",
   "source": [
    "# TODO: Create a collection\n",
    "# Choose any name you want\n",
    "# collection = chroma_client.create_collection(\n",
    "#    name=\"udaplay\",\n",
    "#    embedding_function=embedding_fn\n",
    "#)\n",
    "# We'll use the VectorStoreManager, but override its client to be persistent.\n",
    "manager = VectorStoreManager(openai_api_key=os.getenv(\"OPENAI_API_KEY\"))\n",
    "manager.chroma_client = chroma_client\n",
    "# manager.embedding_function = embedding_fn\n",
    "store = manager.get_or_create_store(\"udaplay\")"
   ],
   "id": "aed00ffb284f903c",
   "outputs": [],
   "execution_count": 6
  },
  {
   "metadata": {},
   "cell_type": "markdown",
   "source": "### Add documents",
   "id": "83552bcf467f6d8"
  },
  {
   "metadata": {
    "ExecuteTime": {
     "end_time": "2025-09-27T18:08:43.030017Z",
     "start_time": "2025-09-27T18:08:40.214179Z"
    }
   },
   "cell_type": "code",
   "source": [
    "# Make sure you have a directory \"project/starter/games\"\n",
    "data_dir = \"games\"\n",
    "documents = []\n",
    "\n",
    "for file_name in sorted(os.listdir(data_dir)):\n",
    "    if not file_name.endswith(\".json\"):\n",
    "        continue\n",
    "\n",
    "    file_path = os.path.join(data_dir, file_name)\n",
    "    with open(file_path, \"r\", encoding=\"utf-8\") as f:\n",
    "        game = json.load(f)\n",
    "\n",
    "    # You can change what text you want to index\n",
    "    content = (\n",
    "        f\"The game \\\"{game['Name']}\\\", released in {game['YearOfRelease']}, \"\n",
    "        f\"is a {game['Genre']} game for the {game['Platform']} platform, \"\n",
    "        f\"published by {game['Publisher']}. \"\n",
    "        f\"Here is a short description: {game['Description']}\"\n",
    "    )\n",
    "\n",
    "    # Use file name (like 001) as ID\n",
    "    doc_id = os.path.splitext(file_name)[0]\n",
    "\n",
    "    documents.append(\n",
    "        Document(\n",
    "            id=doc_id,\n",
    "            content=content,\n",
    "            metadata=game\n",
    "        )\n",
    "    )\n",
    "\n",
    "store.add(documents)\n",
    "print(f\"Added {len(documents)} documents to the 'udaplay' store.\")\n"
   ],
   "id": "5351991a7cc17288",
   "outputs": [
    {
     "name": "stdout",
     "output_type": "stream",
     "text": [
      "Added 15 documents to the 'udaplay' store.\n"
     ]
    }
   ],
   "execution_count": 7
  }
 ],
 "metadata": {
  "kernelspec": {
   "display_name": ".venv",
   "language": "python",
   "name": "python3"
  },
  "language_info": {
   "codemirror_mode": {
    "name": "ipython",
    "version": 3
   },
   "file_extension": ".py",
   "mimetype": "text/x-python",
   "name": "python",
   "nbconvert_exporter": "python",
   "pygments_lexer": "ipython3",
   "version": "3.11.10"
  }
 },
 "nbformat": 4,
 "nbformat_minor": 5
}
