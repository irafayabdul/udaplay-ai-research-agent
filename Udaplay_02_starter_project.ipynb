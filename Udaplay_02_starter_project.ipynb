{
 "cells": [
  {
   "cell_type": "markdown",
   "id": "6fdd0bcb",
   "metadata": {},
   "source": [
    "# Udaplay Project"
   ]
  },
  {
   "cell_type": "markdown",
   "id": "9325b035",
   "metadata": {},
   "source": [
    "## Part 02 - Agent\n",
    "\n",
    "In this part of the project, you'll use your VectorDB to be part of your Agent as a tool.\n",
    "\n",
    "You're building UdaPlay, an AI Research Agent for the video game industry. The agent will:\n",
    "1. Answer questions using internal knowledge (RAG)\n",
    "2. Search the web when needed\n",
    "3. Maintain conversation state\n",
    "4. Return structured outputs\n",
    "5. Store useful information for future use"
   ]
  },
  {
   "cell_type": "markdown",
   "id": "2b42de90",
   "metadata": {},
   "source": [
    "### Setup"
   ]
  },
  {
   "cell_type": "code",
   "id": "a963d4ca",
   "metadata": {
    "ExecuteTime": {
     "end_time": "2025-09-27T20:20:56.172005Z",
     "start_time": "2025-09-27T20:20:56.165181Z"
    }
   },
   "source": [
    "# Only needed for Udacity workspace\n",
    "\n",
    "import importlib.util\n",
    "import sys\n",
    "\n",
    "# Check if 'pysqlite3' is available before importing\n",
    "if importlib.util.find_spec(\"pysqlite3\") is not None:\n",
    "    import pysqlite3\n",
    "    sys.modules['sqlite3'] = sys.modules.pop('pysqlite3')"
   ],
   "outputs": [],
   "execution_count": 1
  },
  {
   "cell_type": "code",
   "id": "fd10c06e",
   "metadata": {
    "ExecuteTime": {
     "end_time": "2025-09-27T20:20:59.414992Z",
     "start_time": "2025-09-27T20:20:56.176490Z"
    }
   },
   "source": [
    "# TODO: Import the necessary libs\n",
    "# For example: \n",
    "import os\n",
    "\n",
    "from lib.agents import Agent\n",
    "# from lib.llm import LLM\n",
    "# from lib.messages import UserMessage, SystemMessage, ToolMessage, AIMessage\n",
    "from lib.tooling import tool\n",
    "from dotenv import load_dotenv"
   ],
   "outputs": [],
   "execution_count": 2
  },
  {
   "cell_type": "code",
   "id": "87e465d4",
   "metadata": {
    "ExecuteTime": {
     "end_time": "2025-09-27T20:20:59.426198Z",
     "start_time": "2025-09-27T20:20:59.420639Z"
    }
   },
   "source": [
    " # TODO: Load environment variables\n",
    "load_dotenv()\n",
    "\n",
    "# OPENAI_API_KEY = os.getenv(\"OPENAI_API_KEY\")\n",
    "# TAVILY_API_KEY = os.getenv(\"TAVILY_API_KEY\")"
   ],
   "outputs": [
    {
     "data": {
      "text/plain": [
       "True"
      ]
     },
     "execution_count": 3,
     "metadata": {},
     "output_type": "execute_result"
    }
   ],
   "execution_count": 3
  },
  {
   "cell_type": "markdown",
   "id": "27de4729",
   "metadata": {},
   "source": [
    "### Tools"
   ]
  },
  {
   "cell_type": "markdown",
   "id": "46ab2dac",
   "metadata": {},
   "source": [
    "Build at least 3 tools:\n",
    "- retrieve_game: To search the vector DB\n",
    "- evaluate_retrieval: To assess the retrieval performance\n",
    "- game_web_search: If no good, search the web\n"
   ]
  },
  {
   "cell_type": "markdown",
   "id": "ce4f14cd",
   "metadata": {},
   "source": [
    "#### Retrieve Game Tool"
   ]
  },
  {
   "cell_type": "code",
   "id": "b25c36dd",
   "metadata": {
    "ExecuteTime": {
     "end_time": "2025-09-27T20:20:59.439794Z",
     "start_time": "2025-09-27T20:20:59.435782Z"
    }
   },
   "source": [
    "# TODO: Create retrieve_game tool\n",
    "# It should use chroma client and collection you created\n",
    "# chroma_client = chromadb.PersistentClient(path=\"chromadb\")\n",
    "# collection = chroma_client.get_collection(\"udaplay\")\n",
    "# Tool Docstring:\n",
    "#    Semantic search: Finds most results in the vector DB\n",
    "#    args:\n",
    "#    - query: a question about game industry. \n",
    "#\n",
    "#    You'll receive results as list. Each element contains:\n",
    "#    - Platform: like Game Boy, Playstation 5, Xbox 360...)\n",
    "#    - Name: Name of the Game\n",
    "#    - YearOfRelease: Year when that game was released for that platform\n",
    "#    - Description: Additional details about the game\n",
    "\n",
    "import chromadb\n",
    "from lib.vector_db import VectorStoreManager\n",
    "\n",
    "@tool\n",
    "def retrieve_game(query: str) -> list[dict]:\n",
    "    \"\"\"Semantic search: Finds most results in the vector DB\n",
    "    args:\n",
    "    - query: a question about game industry.\n",
    "\n",
    "    You'll receive results as list. Each element contains:\n",
    "    - Platform: like Game Boy, Playstation 5, Xbox 360...)\n",
    "    - Name: Name of the Game\n",
    "    - YearOfRelease: Year when that game was released for that platform\n",
    "    - Description: Additional details about the game\n",
    "    \"\"\"\n",
    "    manager = VectorStoreManager(openai_api_key=os.getenv(\"OPENAI_API_KEY\"))\n",
    "    manager.chroma_client = chromadb.PersistentClient(path=\"chromadb\")\n",
    "    store = manager.get_store(\"udaplay\")\n",
    "    results = store.query(\n",
    "        query_texts=[query],\n",
    "        n_results=5\n",
    "    )\n",
    "\n",
    "    metadatas = results.get('metadatas')\n",
    "    if metadatas:\n",
    "        return metadatas[0]\n",
    "    return []"
   ],
   "outputs": [],
   "execution_count": 4
  },
  {
   "cell_type": "markdown",
   "id": "910dc945",
   "metadata": {},
   "source": [
    "#### Evaluate Retrieval Tool"
   ]
  },
  {
   "cell_type": "code",
   "id": "0d9d014b",
   "metadata": {
    "ExecuteTime": {
     "end_time": "2025-09-27T20:20:59.451326Z",
     "start_time": "2025-09-27T20:20:59.445664Z"
    }
   },
   "source": [
    "# TODO: Create evaluate_retrieval tool\n",
    "# You might use an LLM as judge in this tool to evaluate the performance\n",
    "# You need to prompt that LLM with something like:\n",
    "# \"Your task is to evaluate if the documents are enough to respond the query. \"\n",
    "# \"Give a detailed explanation, so it's possible to take an action to accept it or not.\"\n",
    "# Use EvaluationReport to parse the result\n",
    "# Tool Docstring:\n",
    "#    Based on the user's question and on the list of retrieved documents, \n",
    "#    it will analyze the usability of the documents to respond to that question. \n",
    "#    args: \n",
    "#    - question: original question from user\n",
    "#    - retrieved_docs: retrieved documents most similar to the user query in the Vector Database\n",
    "#    The result includes:\n",
    "#    - useful: whether the documents are useful to answer the question\n",
    "#    - description: description about the evaluation result\n",
    "\n",
    "from pydantic import BaseModel, Field\n",
    "from lib.llm import LLM\n",
    "import json\n",
    "\n",
    "class EvaluationReport(BaseModel):\n",
    "    \"\"\"Data model for the evaluation report.\"\"\"\n",
    "    useful: bool = Field(description=\"Whether the documents are useful to answer the question.\")\n",
    "    description: str = Field(description=\"A detailed explanation of why the documents are useful or not.\")\n",
    "\n",
    "@tool\n",
    "def evaluate_retrieval(question: str, retrieved_docs: list[dict]) -> dict:\n",
    "    \"\"\"Based on the user's question and on the list of retrieved documents,\n",
    "    it will analyze the usability of the documents to respond to that question.\n",
    "    args:\n",
    "    - question: original question from user\n",
    "    - retrieved_docs: retrieved documents most similar to the user query in the Vector Database\n",
    "    The result includes:\n",
    "    - useful: whether the documents are useful to answer the question\n",
    "    - description: description about the evaluation result\n",
    "    \"\"\"\n",
    "    judge = LLM(model=\"gpt-4o-mini\")\n",
    "\n",
    "    prompt = f\"\"\"Your task is to evaluate if the provided documents are sufficient to answer the user's query.\n",
    "            Give a detailed explanation for your decision.\n",
    "\n",
    "            User Query: {question}\n",
    "\n",
    "            Retrieved Documents:\n",
    "            {json.dumps(retrieved_docs, indent=2)}\n",
    "\n",
    "            Based on the documents, can you confidently answer the user's query?\n",
    "            \"\"\"\n",
    "\n",
    "    # Using the Pydantic model for structured output\n",
    "    report = judge.invoke(\n",
    "        input=prompt,\n",
    "        response_format=EvaluationReport\n",
    "    )\n",
    "\n",
    "    return report.model_dump()"
   ],
   "outputs": [],
   "execution_count": 5
  },
  {
   "cell_type": "markdown",
   "id": "c7935a26",
   "metadata": {},
   "source": [
    "#### Game Web Search Tool"
   ]
  },
  {
   "cell_type": "code",
   "id": "2ad698aa",
   "metadata": {
    "ExecuteTime": {
     "end_time": "2025-09-27T20:20:59.497152Z",
     "start_time": "2025-09-27T20:20:59.455500Z"
    }
   },
   "source": [
    "# TODO: Create game_web_search tool\n",
    "# Please use Tavily client to search the web\n",
    "# Tool Docstring:\n",
    "#    Semantic search: Finds most results in the vector DB\n",
    "#    args:\n",
    "#    - question: a question about game industry.\n",
    "\n",
    "from tavily import TavilyClient\n",
    "\n",
    "@tool\n",
    "def game_web_search(question: str) -> list[dict]:\n",
    "    \"\"\"Searches the web for information about the video game industry.\n",
    "    Use this when the internal database does not have the answer.\n",
    "    args:\n",
    "    - question: a question about game industry.\n",
    "    \"\"\"\n",
    "    tavily_client = TavilyClient(api_key=os.getenv(\"TAVILY_API_KEY\"))\n",
    "\n",
    "    response = tavily_client.search(\n",
    "        query=question,\n",
    "        search_depth=\"advanced\",\n",
    "        max_results=5,\n",
    "        include_answer=True\n",
    "    )\n",
    "\n",
    "    return response.get(\"results\", [])"
   ],
   "outputs": [],
   "execution_count": 6
  },
  {
   "cell_type": "markdown",
   "id": "df844b3b",
   "metadata": {},
   "source": [
    "### Agent"
   ]
  },
  {
   "cell_type": "code",
   "id": "a1c9260a2ecfd15e",
   "metadata": {
    "ExecuteTime": {
     "end_time": "2025-09-27T20:20:59.503457Z",
     "start_time": "2025-09-27T20:20:59.500932Z"
    }
   },
   "source": [
    "# TODO: Create your Agent abstraction using StateMachine\n",
    "# Equip with an appropriate model\n",
    "# Craft a good set of instructions\n",
    "# Plug all Tools you developed\n",
    "\n",
    "# System instructions for the agent\n",
    "instructions = \"\"\"You are UdaPlay, an AI assistant expert in the gaming industry.\n",
    "\n",
    "Your goal is to answer the user's question in a clear and concise way, following these steps:\n",
    "- First, try to answer the question using the `retrieve_game` tool.\n",
    "- Second use the `evaluate_retrieval` tool to check if the retrieved information is enough to answer the question.\n",
    "- If the information is not enough, use the `game_web_search` tool to search the web.\n",
    "- Finally, combine all the information and provide a final answer to the user.\n",
    "- Present the information in a clean and structured way.\n",
    "- Always cite your sources.\n",
    "\"\"\"\n",
    "\n",
    "# Instantiate the Agent from the lib\n",
    "agent = Agent(\n",
    "    model_name=\"gpt-4o\",\n",
    "    instructions=instructions,\n",
    "    tools=[\n",
    "        retrieve_game,\n",
    "        evaluate_retrieval,\n",
    "        game_web_search\n",
    "    ]\n",
    ")"
   ],
   "outputs": [],
   "execution_count": 7
  },
  {
   "cell_type": "code",
   "id": "90060bc1412baf81",
   "metadata": {
    "ExecuteTime": {
     "end_time": "2025-09-27T20:20:59.509988Z",
     "start_time": "2025-09-27T20:20:59.506985Z"
    }
   },
   "source": [
    "# TODO: Invoke your agent\n",
    "# - When Pokémon Gold and Silver was released?\n",
    "# - Which one was the first 3D platformer Mario game?\n",
    "# - Was Mortal Kombat X released for Playstation 5?\n",
    "\n",
    "def run_agent(question: str):\n",
    "    \"\"\"Invokes the agent with a question and prints the final answer.\"\"\"\n",
    "    print(f\"--- Running agent for: '{question}' ---\\n\")\n",
    "    # The invoke method returns a Run object\n",
    "    run_object = agent.invoke(question)\n",
    "    final_state = run_object.get_final_state()\n",
    "\n",
    "    # The final message is the last one in the list of messages\n",
    "    final_message = final_state[\"messages\"][-1]\n",
    "\n",
    "    # Check the last message and print its content\n",
    "    if final_message.role == \"assistant\":\n",
    "        print(\"Final Answer:\\n\")\n",
    "        print(final_message.content)\n",
    "    else:\n",
    "        print(\"Agent did not produce a final answer.\")\n",
    "\n",
    "    print(f\"\\n--- Run complete. Total tokens: {final_state.get('total_tokens', 0)} ---\")"
   ],
   "outputs": [],
   "execution_count": 8
  },
  {
   "cell_type": "code",
   "id": "3532cd17f6330fd0",
   "metadata": {
    "ExecuteTime": {
     "end_time": "2025-09-27T20:21:38.786737Z",
     "start_time": "2025-09-27T20:20:59.518600Z"
    }
   },
   "source": [
    "run_agent(\"When Pokémon Gold and Silver was released?\")\n",
    "run_agent(\"Which one was the first 3D platformer Mario game?\")\n",
    "run_agent(\"Was Mortal Kombat X realeased for Playstation 5?\")"
   ],
   "outputs": [
    {
     "name": "stdout",
     "output_type": "stream",
     "text": [
      "--- Running agent for: 'When Pokémon Gold and Silver was released?' ---\n",
      "\n",
      "[StateMachine] Starting: __entry__\n",
      "[StateMachine] Executing step: message_prep\n",
      "[StateMachine] Executing step: llm_processor\n",
      "[Tool Calling] Name: retrieve_game - Params: {'query': 'Pokémon Gold and Silver release date'}\n",
      "[StateMachine] Executing step: tool_executor\n",
      "[StateMachine] Executing step: llm_processor\n",
      "[Tool Calling] Name: evaluate_retrieval - Params: {'question': 'When Pokémon Gold and Silver was released?', 'retrieved_docs': [\"{'Description': 'Second-generation Pokémon games introducing new regions, Pokémon, and gameplay mechanics.', 'Name': 'Pokémon Gold and Silver', 'Publisher': 'Nintendo', 'Platform': 'Game Boy Color', 'YearOfRelease': 1999, 'Genre': 'Role-playing'}\"]}\n",
      "[StateMachine] Executing step: tool_executor\n",
      "[StateMachine] Executing step: llm_processor\n",
      "[StateMachine] Terminating: __termination__\n",
      "Final Answer:\n",
      "\n",
      "Pokémon Gold and Silver were released in 1999. These games are second-generation Pokémon games that introduced new regions, Pokémon, and gameplay mechanics. They were published by Nintendo for the Game Boy Color and belong to the role-playing genre.\n",
      "\n",
      "Source: Internal Game Database\n",
      "\n",
      "--- Run complete. Total tokens: 2399 ---\n",
      "--- Running agent for: 'Which one was the first 3D platformer Mario game?' ---\n",
      "\n",
      "[StateMachine] Starting: __entry__\n",
      "[StateMachine] Executing step: message_prep\n",
      "[StateMachine] Executing step: llm_processor\n",
      "[Tool Calling] Name: retrieve_game - Params: {'query': 'first 3D platformer Mario game'}\n",
      "[StateMachine] Executing step: tool_executor\n",
      "[StateMachine] Executing step: llm_processor\n",
      "[Tool Calling] Name: evaluate_retrieval - Params: {'question': 'Which one was the first 3D platformer Mario game?', 'retrieved_docs': ['{\\'Name\\': \\'Super Mario 64\\', \\'Description\\': \"A groundbreaking 3D platformer that set new standards for the genre, featuring Mario\\'s quest to rescue Princess Peach.\", \\'Publisher\\': \\'Nintendo\\', \\'Platform\\': \\'Nintendo 64\\', \\'Genre\\': \\'Platformer\\', \\'YearOfRelease\\': 1996}']}\n",
      "[StateMachine] Executing step: tool_executor\n",
      "[StateMachine] Executing step: llm_processor\n",
      "[StateMachine] Terminating: __termination__\n",
      "Final Answer:\n",
      "\n",
      "The first 3D platformer Mario game was **Super Mario 64**. Released in 1996 for the Nintendo 64, it was a groundbreaking game that set new standards for the genre. The game features Mario on a quest to rescue Princess Peach.\n",
      "\n",
      "Source: Internal Game Database\n",
      "\n",
      "--- Run complete. Total tokens: 4503 ---\n",
      "--- Running agent for: 'Was Mortal Kombat X realeased for Playstation 5?' ---\n",
      "\n",
      "[StateMachine] Starting: __entry__\n",
      "[StateMachine] Executing step: message_prep\n",
      "[StateMachine] Executing step: llm_processor\n",
      "[Tool Calling] Name: retrieve_game - Params: {'query': 'Mortal Kombat X Playstation 5 release'}\n",
      "[StateMachine] Executing step: tool_executor\n",
      "[StateMachine] Executing step: llm_processor\n",
      "[Tool Calling] Name: evaluate_retrieval - Params: {'question': 'Was Mortal Kombat X released for Playstation 5?', 'retrieved_docs': ['{\\'YearOfRelease\\': 2023, \\'Genre\\': \\'Action-adventure\\', \\'Publisher\\': \\'Sony Interactive Entertainment\\', \\'Platform\\': \\'PlayStation 5\\', \\'Name\\': \"Marvel\\'s Spider-Man 2\", \\'Description\\': \\'The sequel to the acclaimed Spider-Man game, featuring both Peter Parker and Miles Morales as playable characters.\\'}', '{\\'Genre\\': \\'First-person shooter\\', \\'Description\\': \"The latest installment in the Halo franchise, featuring Master Chief\\'s return in a new open-world setting.\", \\'Platform\\': \\'Xbox Series X|S\\', \\'Publisher\\': \\'Xbox Game Studios\\', \\'YearOfRelease\\': 2021, \\'Name\\': \\'Halo Infinite\\'}', '{\\'YearOfRelease\\': 2018, \\'Genre\\': \\'Action-adventure\\', \\'Publisher\\': \\'Sony Interactive Entertainment\\', \\'Platform\\': \\'PlayStation 4\\', \\'Description\\': \\'An open-world superhero game that lets players swing through New York City as Spider-Man, battling iconic villains.\\', \\'Name\\': \"Marvel\\'s Spider-Man\"}', \"{'Platform': 'PlayStation 3', 'Name': 'Gran Turismo 5', 'Description': 'A comprehensive racing simulator featuring a vast selection of vehicles and tracks, with realistic driving physics.', 'Publisher': 'Sony Computer Entertainment', 'Genre': 'Racing', 'YearOfRelease': 2010}\", \"{'Genre': 'Party', 'YearOfRelease': 2010, 'Name': 'Kinect Adventures!', 'Description': 'A collection of mini-games designed to showcase the capabilities of the Kinect motion sensor.', 'Platform': 'Xbox 360', 'Publisher': 'Microsoft Game Studios'}\"]}\n",
      "[StateMachine] Executing step: tool_executor\n",
      "[StateMachine] Executing step: llm_processor\n",
      "[Tool Calling] Name: game_web_search - Params: {'question': 'Was Mortal Kombat X released for Playstation 5?'}\n",
      "[StateMachine] Executing step: tool_executor\n",
      "[StateMachine] Executing step: llm_processor\n",
      "[StateMachine] Terminating: __termination__\n",
      "Final Answer:\n",
      "\n",
      "Mortal Kombat X was originally released for PlayStation 4, Xbox One, and Windows on April 14, 2015. While it is playable on PlayStation 5 through backward compatibility, it was not specifically released as a PlayStation 5 title. Some features available on the PlayStation 4 version might be absent when playing on PlayStation 5.\n",
      "\n",
      "Sources:\n",
      "- [PlayStation Store](https://store.playstation.com/en-us/product/UP1018-CUSA00967_00-MORTALKOMBATX000)\n",
      "- [Mortal Kombat Fandom](https://mortalkombat.fandom.com/wiki/Mortal_Kombat_X)\n",
      "\n",
      "--- Run complete. Total tokens: 11405 ---\n"
     ]
    }
   ],
   "execution_count": 9
  },
  {
   "cell_type": "markdown",
   "id": "f0a55081",
   "metadata": {},
   "source": [
    "### (Optional) Advanced"
   ]
  },
  {
   "cell_type": "code",
   "id": "eb83fbb1",
   "metadata": {
    "ExecuteTime": {
     "end_time": "2025-09-27T20:21:38.797103Z",
     "start_time": "2025-09-27T20:21:38.794553Z"
    }
   },
   "source": [
    "# TODO: Update your agent with long-term memory\n",
    "# TODO: Convert the agent to be a state machine, with the tools being pre-defined nodes"
   ],
   "outputs": [],
   "execution_count": 10
  }
 ],
 "metadata": {
  "kernelspec": {
   "display_name": "Python 3 (ipykernel)",
   "language": "python",
   "name": "python3"
  },
  "language_info": {
   "codemirror_mode": {
    "name": "ipython",
    "version": 3
   },
   "file_extension": ".py",
   "mimetype": "text/x-python",
   "name": "python",
   "nbconvert_exporter": "python",
   "pygments_lexer": "ipython3",
   "version": "3.11.0"
  }
 },
 "nbformat": 4,
 "nbformat_minor": 5
}
