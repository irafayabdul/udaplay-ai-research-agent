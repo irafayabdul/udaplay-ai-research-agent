{
 "cells": [
  {
   "cell_type": "markdown",
   "id": "6fdd0bcb",
   "metadata": {},
   "source": [
    "# Udaplay Project"
   ]
  },
  {
   "cell_type": "markdown",
   "id": "9325b035",
   "metadata": {},
   "source": [
    "## Part 02 - Agent\n",
    "\n",
    "In this part of the project, you'll use your VectorDB to be part of your Agent as a tool.\n",
    "\n",
    "You're building UdaPlay, an AI Research Agent for the video game industry. The agent will:\n",
    "1. Answer questions using internal knowledge (RAG)\n",
    "2. Search the web when needed\n",
    "3. Maintain conversation state\n",
    "4. Return structured outputs\n",
    "5. Store useful information for future use"
   ]
  },
  {
   "cell_type": "markdown",
   "id": "2b42de90",
   "metadata": {},
   "source": [
    "### Setup"
   ]
  },
  {
   "cell_type": "code",
   "id": "a963d4ca",
   "metadata": {
    "ExecuteTime": {
     "end_time": "2025-09-28T01:58:50.705428Z",
     "start_time": "2025-09-28T01:58:50.698017Z"
    }
   },
   "source": [
    "# Only needed for Udacity workspace\n",
    "\n",
    "import importlib.util\n",
    "import sys\n",
    "\n",
    "# Check if 'pysqlite3' is available before importing\n",
    "if importlib.util.find_spec(\"pysqlite3\") is not None:\n",
    "    import pysqlite3\n",
    "    sys.modules['sqlite3'] = sys.modules.pop('pysqlite3')"
   ],
   "outputs": [],
   "execution_count": 1
  },
  {
   "cell_type": "code",
   "id": "fd10c06e",
   "metadata": {
    "ExecuteTime": {
     "end_time": "2025-09-28T01:58:53.993858Z",
     "start_time": "2025-09-28T01:58:50.709941Z"
    }
   },
   "source": [
    "# TODO: Import the necessary libs\n",
    "# For example: \n",
    "import os\n",
    "\n",
    "from lib.agents import Agent\n",
    "# from lib.llm import LLM\n",
    "# from lib.messages import UserMessage, SystemMessage, ToolMessage, AIMessage\n",
    "from lib.tooling import tool\n",
    "from dotenv import load_dotenv"
   ],
   "outputs": [],
   "execution_count": 2
  },
  {
   "cell_type": "code",
   "id": "87e465d4",
   "metadata": {
    "ExecuteTime": {
     "end_time": "2025-09-28T01:58:54.002763Z",
     "start_time": "2025-09-28T01:58:53.997953Z"
    }
   },
   "source": [
    " # TODO: Load environment variables\n",
    "load_dotenv()\n",
    "\n",
    "# OPENAI_API_KEY = os.getenv(\"OPENAI_API_KEY\")\n",
    "# TAVILY_API_KEY = os.getenv(\"TAVILY_API_KEY\")"
   ],
   "outputs": [
    {
     "data": {
      "text/plain": [
       "True"
      ]
     },
     "execution_count": 3,
     "metadata": {},
     "output_type": "execute_result"
    }
   ],
   "execution_count": 3
  },
  {
   "cell_type": "markdown",
   "id": "27de4729",
   "metadata": {},
   "source": [
    "### Tools"
   ]
  },
  {
   "cell_type": "markdown",
   "id": "46ab2dac",
   "metadata": {},
   "source": [
    "Build at least 3 tools:\n",
    "- retrieve_game: To search the vector DB\n",
    "- evaluate_retrieval: To assess the retrieval performance\n",
    "- game_web_search: If no good, search the web\n"
   ]
  },
  {
   "cell_type": "markdown",
   "id": "ce4f14cd",
   "metadata": {},
   "source": [
    "#### Retrieve Game Tool"
   ]
  },
  {
   "cell_type": "code",
   "id": "b25c36dd",
   "metadata": {
    "ExecuteTime": {
     "end_time": "2025-09-28T01:58:54.010790Z",
     "start_time": "2025-09-28T01:58:54.007039Z"
    }
   },
   "source": [
    "# TODO: Create retrieve_game tool\n",
    "# It should use chroma client and collection you created\n",
    "# chroma_client = chromadb.PersistentClient(path=\"chromadb\")\n",
    "# collection = chroma_client.get_collection(\"udaplay\")\n",
    "# Tool Docstring:\n",
    "#    Semantic search: Finds most results in the vector DB\n",
    "#    args:\n",
    "#    - query: a question about game industry. \n",
    "#\n",
    "#    You'll receive results as list. Each element contains:\n",
    "#    - Platform: like Game Boy, Playstation 5, Xbox 360...)\n",
    "#    - Name: Name of the Game\n",
    "#    - YearOfRelease: Year when that game was released for that platform\n",
    "#    - Description: Additional details about the game\n",
    "\n",
    "import chromadb\n",
    "from lib.vector_db import VectorStoreManager\n",
    "\n",
    "@tool\n",
    "def retrieve_game(query: str) -> list[dict]:\n",
    "    \"\"\"Semantic search: Finds most results in the vector DB\n",
    "    args:\n",
    "    - query: a question about game industry.\n",
    "\n",
    "    You'll receive results as list. Each element contains:\n",
    "    - Platform: like Game Boy, Playstation 5, Xbox 360...)\n",
    "    - Name: Name of the Game\n",
    "    - YearOfRelease: Year when that game was released for that platform\n",
    "    - Description: Additional details about the game\n",
    "    \"\"\"\n",
    "    manager = VectorStoreManager(openai_api_key=os.getenv(\"OPENAI_API_KEY\"))\n",
    "    manager.chroma_client = chromadb.PersistentClient(path=\"chromadb\")\n",
    "    store = manager.get_store(\"udaplay\")\n",
    "    results = store.query(\n",
    "        query_texts=[query],\n",
    "        n_results=5\n",
    "    )\n",
    "\n",
    "    metadatas = results.get('metadatas')\n",
    "    if metadatas:\n",
    "        return metadatas[0]\n",
    "    return []"
   ],
   "outputs": [],
   "execution_count": 4
  },
  {
   "cell_type": "markdown",
   "id": "910dc945",
   "metadata": {},
   "source": [
    "#### Evaluate Retrieval Tool"
   ]
  },
  {
   "cell_type": "code",
   "id": "0d9d014b",
   "metadata": {
    "ExecuteTime": {
     "end_time": "2025-09-28T01:58:54.021759Z",
     "start_time": "2025-09-28T01:58:54.016257Z"
    }
   },
   "source": [
    "# TODO: Create evaluate_retrieval tool\n",
    "# You might use an LLM as judge in this tool to evaluate the performance\n",
    "# You need to prompt that LLM with something like:\n",
    "# \"Your task is to evaluate if the documents are enough to respond the query. \"\n",
    "# \"Give a detailed explanation, so it's possible to take an action to accept it or not.\"\n",
    "# Use EvaluationReport to parse the result\n",
    "# Tool Docstring:\n",
    "#    Based on the user's question and on the list of retrieved documents, \n",
    "#    it will analyze the usability of the documents to respond to that question. \n",
    "#    args: \n",
    "#    - question: original question from user\n",
    "#    - retrieved_docs: retrieved documents most similar to the user query in the Vector Database\n",
    "#    The result includes:\n",
    "#    - useful: whether the documents are useful to answer the question\n",
    "#    - description: description about the evaluation result\n",
    "\n",
    "from pydantic import BaseModel, Field\n",
    "from lib.llm import LLM\n",
    "import json\n",
    "\n",
    "class EvaluationReport(BaseModel):\n",
    "    \"\"\"Data model for the evaluation report.\"\"\"\n",
    "    useful: bool = Field(description=\"Whether the documents are useful to answer the question.\")\n",
    "    description: str = Field(description=\"A detailed explanation of why the documents are useful or not.\")\n",
    "\n",
    "@tool\n",
    "def evaluate_retrieval(question: str, retrieved_docs: list[dict]) -> dict:\n",
    "    \"\"\"Based on the user's question and on the list of retrieved documents,\n",
    "    it will analyze the usability of the documents to respond to that question.\n",
    "    args:\n",
    "    - question: original question from user\n",
    "    - retrieved_docs: retrieved documents most similar to the user query in the Vector Database\n",
    "    The result includes:\n",
    "    - useful: whether the documents are useful to answer the question\n",
    "    - description: description about the evaluation result\n",
    "    \"\"\"\n",
    "    judge = LLM(model=\"gpt-4o-mini\")\n",
    "\n",
    "    prompt = f\"\"\"Your task is to evaluate if the provided documents are sufficient to answer the user's query.\n",
    "            Give a detailed explanation for your decision.\n",
    "\n",
    "            User Query: {question}\n",
    "\n",
    "            Retrieved Documents:\n",
    "            {json.dumps(retrieved_docs, indent=2)}\n",
    "\n",
    "            Based on the documents, can you confidently answer the user's query?\n",
    "            \"\"\"\n",
    "\n",
    "    # Using the Pydantic model for structured output\n",
    "    report = judge.invoke(\n",
    "        input=prompt,\n",
    "        response_format=EvaluationReport\n",
    "    )\n",
    "\n",
    "    return report.model_dump()"
   ],
   "outputs": [],
   "execution_count": 5
  },
  {
   "cell_type": "markdown",
   "id": "c7935a26",
   "metadata": {},
   "source": [
    "#### Game Web Search Tool"
   ]
  },
  {
   "cell_type": "code",
   "id": "2ad698aa",
   "metadata": {
    "ExecuteTime": {
     "end_time": "2025-09-28T01:58:54.068189Z",
     "start_time": "2025-09-28T01:58:54.025761Z"
    }
   },
   "source": [
    "# TODO: Create game_web_search tool\n",
    "# Please use Tavily client to search the web\n",
    "# Tool Docstring:\n",
    "#    Semantic search: Finds most results in the vector DB\n",
    "#    args:\n",
    "#    - question: a question about game industry.\n",
    "\n",
    "from tavily import TavilyClient\n",
    "\n",
    "@tool\n",
    "def game_web_search(question: str) -> list[dict]:\n",
    "    \"\"\"Searches the web for information about the video game industry.\n",
    "    Use this when the internal database does not have the answer.\n",
    "    args:\n",
    "    - question: a question about game industry.\n",
    "    \"\"\"\n",
    "    tavily_client = TavilyClient(api_key=os.getenv(\"TAVILY_API_KEY\"))\n",
    "\n",
    "    response = tavily_client.search(\n",
    "        query=question,\n",
    "        search_depth=\"advanced\",\n",
    "        max_results=5,\n",
    "        include_answer=True\n",
    "    )\n",
    "\n",
    "    return response.get(\"results\", [])"
   ],
   "outputs": [],
   "execution_count": 6
  },
  {
   "cell_type": "markdown",
   "id": "df844b3b",
   "metadata": {},
   "source": [
    "### Agent"
   ]
  },
  {
   "cell_type": "code",
   "id": "a1c9260a2ecfd15e",
   "metadata": {
    "ExecuteTime": {
     "end_time": "2025-09-28T01:58:54.075912Z",
     "start_time": "2025-09-28T01:58:54.073393Z"
    }
   },
   "source": [
    "# TODO: Create your Agent abstraction using StateMachine\n",
    "# Equip with an appropriate model\n",
    "# Craft a good set of instructions\n",
    "# Plug all Tools you developed\n",
    "\n",
    "# System instructions for the agent\n",
    "instructions = \"\"\"You are UdaPlay, an AI assistant expert in the gaming industry.\n",
    "\n",
    "Your goal is to answer the user's question in a clear and concise way, following these steps:\n",
    "- First, try to answer the question using the `retrieve_game` tool.\n",
    "- Second, use the `evaluate_retrieval` tool to check if the retrieved information is enough to answer the question.\n",
    "- After second if the retrieved information is not useful, use the `game_web_search` tool to search the web.\n",
    "- Finally, combine all the information and provide a final answer to the user.\n",
    "- Present the information in a clean and structured way.\n",
    "- Always cite your sources.\n",
    "\"\"\"\n",
    "\n",
    "# Instantiate the Agent from the lib\n",
    "agent = Agent(\n",
    "    model_name=\"gpt-4o\",\n",
    "    instructions=instructions,\n",
    "    tools=[\n",
    "        retrieve_game,\n",
    "        evaluate_retrieval,\n",
    "        game_web_search\n",
    "    ]\n",
    ")"
   ],
   "outputs": [],
   "execution_count": 7
  },
  {
   "cell_type": "code",
   "id": "90060bc1412baf81",
   "metadata": {
    "ExecuteTime": {
     "end_time": "2025-09-28T01:58:54.082907Z",
     "start_time": "2025-09-28T01:58:54.079906Z"
    }
   },
   "source": [
    "# TODO: Invoke your agent\n",
    "# - When Pokémon Gold and Silver was released?\n",
    "# - Which one was the first 3D platformer Mario game?\n",
    "# - Was Mortal Kombat X released for Playstation 5?\n",
    "\n",
    "def run_agent(question: str):\n",
    "    \"\"\"Invokes the agent with a question and prints the final answer.\"\"\"\n",
    "    print(f\"--- Running agent for: '{question}' ---\\n\")\n",
    "    # The invoke method returns a Run object\n",
    "    run_object = agent.invoke(question)\n",
    "    final_state = run_object.get_final_state()\n",
    "\n",
    "    # The final message is the last one in the list of messages\n",
    "    final_message = final_state[\"messages\"][-1]\n",
    "\n",
    "    # Check the last message and print its content\n",
    "    if final_message.role == \"assistant\":\n",
    "        print(\"Final Answer:\")\n",
    "        print(final_message.content)\n",
    "    else:\n",
    "        print(\"Agent did not produce a final answer.\")\n",
    "\n",
    "    print(f\"\\n--- Run complete. Total tokens: {final_state.get('total_tokens', 0)} ---\\n\")"
   ],
   "outputs": [],
   "execution_count": 8
  },
  {
   "cell_type": "code",
   "id": "3532cd17f6330fd0",
   "metadata": {
    "ExecuteTime": {
     "end_time": "2025-09-28T01:59:05.684894Z",
     "start_time": "2025-09-28T01:58:54.088623Z"
    }
   },
   "source": "run_agent(\"When Pokémon Gold and Silver was released?\")",
   "outputs": [
    {
     "name": "stdout",
     "output_type": "stream",
     "text": [
      "--- Running agent for: 'When Pokémon Gold and Silver was released?' ---\n",
      "\n",
      "[StateMachine] Starting: __entry__ -> Next step: ['message_prep'] \n",
      "\n",
      "[StateMachine] Executing step: [message_prep] -> Response: [role='user' content='When Pokémon Gold and Silver was released?'] -> Next step: ['llm_processor'] \n",
      "\n",
      "[StateMachine] Executing step: [llm_processor] -> Response: [role='assistant' content=None tool_calls=[ChatCompletionMessageFunctionToolCall(id='call_P3owrUuadfMecUGAJq8x7INN', function=Function(arguments='{\"query\":\"Pokémon Gold and Silver release date\"}', name='retrieve_game'), type='function')] token_usage=None] -> Next step: ['tool_executor'] \n",
      "\n",
      "[Tool Calling] Name: retrieve_game - Params: {'query': 'Pokémon Gold and Silver release date'}\n",
      "[StateMachine] Executing step: [tool_executor] -> Response: [role='tool' content='\"[{\\'Platform\\': \\'Game Boy Color\\', \\'Genre\\': \\'Role-playing\\', \\'Name\\': \\'Pok\\\\u00e9mon Gold and Silver\\', \\'Publisher\\': \\'Nintendo\\', \\'Description\\': \\'Second-generation Pok\\\\u00e9mon games introducing new regions, Pok\\\\u00e9mon, and gameplay mechanics.\\', \\'YearOfRelease\\': 1999}, {\\'Genre\\': \\'Role-playing\\', \\'YearOfRelease\\': 2002, \\'Platform\\': \\'Game Boy Advance\\', \\'Description\\': \\'Third-generation Pok\\\\u00e9mon games set in the Hoenn region, featuring new Pok\\\\u00e9mon and double battles.\\', \\'Publisher\\': \\'Nintendo\\', \\'Name\\': \\'Pok\\\\u00e9mon Ruby and Sapphire\\'}, {\\'YearOfRelease\\': 1996, \\'Description\\': \\\\\"A groundbreaking 3D platformer that set new standards for the genre, featuring Mario\\'s quest to rescue Princess Peach.\\\\\", \\'Name\\': \\'Super Mario 64\\', \\'Publisher\\': \\'Nintendo\\', \\'Platform\\': \\'Nintendo 64\\', \\'Genre\\': \\'Platformer\\'}, {\\'Description\\': \\'A classic platformer where Mario embarks on a quest to save Princess Toadstool and Dinosaur Land from Bowser.\\', \\'Genre\\': \\'Platformer\\', \\'Publisher\\': \\'Nintendo\\', \\'YearOfRelease\\': 1990, \\'Platform\\': \\'Super Nintendo Entertainment System (SNES)\\', \\'Name\\': \\'Super Mario World\\'}, {\\'Genre\\': \\'Sports\\', \\'Description\\': \\\\\"A collection of sports games that utilize the Wii\\'s motion controls, bundled with the console to showcase its capabilities.\\\\\", \\'Name\\': \\'Wii Sports\\', \\'Platform\\': \\'Wii\\', \\'YearOfRelease\\': 2006, \\'Publisher\\': \\'Nintendo\\'}]\"' tool_call_id='call_P3owrUuadfMecUGAJq8x7INN' name='retrieve_game'] -> Next step: ['llm_processor'] \n",
      "\n",
      "[StateMachine] Executing step: [llm_processor] -> Response: [role='assistant' content=None tool_calls=[ChatCompletionMessageFunctionToolCall(id='call_seL5vRwYBbAtcWN8PsCD9hnH', function=Function(arguments='{\"question\":\"When Pokémon Gold and Silver was released?\",\"retrieved_docs\":[\"{\\'Platform\\': \\'Game Boy Color\\', \\'Genre\\': \\'Role-playing\\', \\'Name\\': \\'Pokémon Gold and Silver\\', \\'Publisher\\': \\'Nintendo\\', \\'Description\\': \\'Second-generation Pokémon games introducing new regions, Pokémon, and gameplay mechanics.\\', \\'YearOfRelease\\': 1999}\"]}', name='evaluate_retrieval'), type='function')] token_usage=None] -> Next step: ['tool_executor'] \n",
      "\n",
      "[Tool Calling] Name: evaluate_retrieval - Params: {'question': 'When Pokémon Gold and Silver was released?', 'retrieved_docs': [\"{'Platform': 'Game Boy Color', 'Genre': 'Role-playing', 'Name': 'Pokémon Gold and Silver', 'Publisher': 'Nintendo', 'Description': 'Second-generation Pokémon games introducing new regions, Pokémon, and gameplay mechanics.', 'YearOfRelease': 1999}\"]}\n",
      "[StateMachine] Executing step: [tool_executor] -> Response: [role='tool' content='\"{\\'role\\': \\'assistant\\', \\'content\\': \\'{\\\\\"useful\\\\\":true,\\\\\"description\\\\\":\\\\\"The retrieved document provides specific information about the release of Pok\\\\u00e9mon Gold and Silver, including the year of release, which is 1999. This directly answers the user\\\\\\\\\\'s query regarding when the games were released. The document also includes additional context about the platform and genre, which, while not necessary for answering the specific question, adds to the overall understanding of the games. Therefore, the document is sufficient to confidently answer the user\\\\\\\\\\'s query.\\\\\"}\\', \\'tool_calls\\': None, \\'token_usage\\': {\\'prompt_tokens\\': 227, \\'completion_tokens\\': 94, \\'total_tokens\\': 321}}\"' tool_call_id='call_seL5vRwYBbAtcWN8PsCD9hnH' name='evaluate_retrieval'] -> Next step: ['llm_processor'] \n",
      "\n",
      "[StateMachine] Executing step: [llm_processor] -> Response: [role='assistant' content='Pokémon Gold and Silver were released in 1999 for the Game Boy Color. These games are part of the second generation of Pokémon games and introduced new regions, Pokémon, and gameplay mechanics. \\n\\nSource: Retrieved from internal game database.' tool_calls=None token_usage=None] -> Next step: ['__termination__'] \n",
      "\n",
      "[StateMachine] Terminating: __termination__\n",
      "Final Answer:\n",
      "Pokémon Gold and Silver were released in 1999 for the Game Boy Color. These games are part of the second generation of Pokémon games and introduced new regions, Pokémon, and gameplay mechanics. \n",
      "\n",
      "Source: Retrieved from internal game database.\n",
      "\n",
      "--- Run complete. Total tokens: 2402 ---\n",
      "\n"
     ]
    }
   ],
   "execution_count": 9
  },
  {
   "metadata": {
    "ExecuteTime": {
     "end_time": "2025-09-28T01:59:16.540718Z",
     "start_time": "2025-09-28T01:59:05.692941Z"
    }
   },
   "cell_type": "code",
   "source": "run_agent(\"Which one was the first 3D platformer Mario game?\")",
   "id": "4235333da22a1df",
   "outputs": [
    {
     "name": "stdout",
     "output_type": "stream",
     "text": [
      "--- Running agent for: 'Which one was the first 3D platformer Mario game?' ---\n",
      "\n",
      "[StateMachine] Starting: __entry__ -> Next step: ['message_prep'] \n",
      "\n",
      "[StateMachine] Executing step: [message_prep] -> Response: [role='user' content='Which one was the first 3D platformer Mario game?'] -> Next step: ['llm_processor'] \n",
      "\n",
      "[StateMachine] Executing step: [llm_processor] -> Response: [role='assistant' content=None tool_calls=[ChatCompletionMessageFunctionToolCall(id='call_5D1CpPFYCx6FX7YYiiK0tWkk', function=Function(arguments='{\"query\":\"first 3D platformer Mario game\"}', name='retrieve_game'), type='function')] token_usage=None] -> Next step: ['tool_executor'] \n",
      "\n",
      "[Tool Calling] Name: retrieve_game - Params: {'query': 'first 3D platformer Mario game'}\n",
      "[StateMachine] Executing step: [tool_executor] -> Response: [role='tool' content='\"[{\\'Platform\\': \\'Nintendo 64\\', \\'YearOfRelease\\': 1996, \\'Genre\\': \\'Platformer\\', \\'Publisher\\': \\'Nintendo\\', \\'Description\\': \\\\\"A groundbreaking 3D platformer that set new standards for the genre, featuring Mario\\'s quest to rescue Princess Peach.\\\\\", \\'Name\\': \\'Super Mario 64\\'}, {\\'Description\\': \\'A classic platformer where Mario embarks on a quest to save Princess Toadstool and Dinosaur Land from Bowser.\\', \\'Platform\\': \\'Super Nintendo Entertainment System (SNES)\\', \\'YearOfRelease\\': 1990, \\'Genre\\': \\'Platformer\\', \\'Name\\': \\'Super Mario World\\', \\'Publisher\\': \\'Nintendo\\'}, {\\'Platform\\': \\'GameCube\\', \\'Description\\': \\'A crossover fighting game featuring characters from various Nintendo franchises battling it out in dynamic arenas.\\', \\'Genre\\': \\'Fighting\\', \\'YearOfRelease\\': 2001, \\'Name\\': \\'Super Smash Bros. Melee\\', \\'Publisher\\': \\'Nintendo\\'}, {\\'Name\\': \\'Mario Kart 8 Deluxe\\', \\'YearOfRelease\\': 2017, \\'Platform\\': \\'Nintendo Switch\\', \\'Description\\': \\'An enhanced version of Mario Kart 8, featuring new characters, tracks, and improved gameplay mechanics.\\', \\'Publisher\\': \\'Nintendo\\', \\'Genre\\': \\'Racing\\'}, {\\'Genre\\': \\'Sports\\', \\'Name\\': \\'Wii Sports\\', \\'Description\\': \\\\\"A collection of sports games that utilize the Wii\\'s motion controls, bundled with the console to showcase its capabilities.\\\\\", \\'YearOfRelease\\': 2006, \\'Platform\\': \\'Wii\\', \\'Publisher\\': \\'Nintendo\\'}]\"' tool_call_id='call_5D1CpPFYCx6FX7YYiiK0tWkk' name='retrieve_game'] -> Next step: ['llm_processor'] \n",
      "\n",
      "[StateMachine] Executing step: [llm_processor] -> Response: [role='assistant' content=None tool_calls=[ChatCompletionMessageFunctionToolCall(id='call_3JAnjwx2RJKpoyfvhnlDsEuY', function=Function(arguments='{\"question\":\"Which one was the first 3D platformer Mario game?\",\"retrieved_docs\":[\"{\\'Platform\\': \\'Nintendo 64\\', \\'YearOfRelease\\': 1996, \\'Genre\\': \\'Platformer\\', \\'Publisher\\': \\'Nintendo\\', \\'Description\\': \\\\\"A groundbreaking 3D platformer that set new standards for the genre, featuring Mario\\'s quest to rescue Princess Peach.\\\\\", \\'Name\\': \\'Super Mario 64\\'}\"]}', name='evaluate_retrieval'), type='function')] token_usage=None] -> Next step: ['tool_executor'] \n",
      "\n",
      "[Tool Calling] Name: evaluate_retrieval - Params: {'question': 'Which one was the first 3D platformer Mario game?', 'retrieved_docs': ['{\\'Platform\\': \\'Nintendo 64\\', \\'YearOfRelease\\': 1996, \\'Genre\\': \\'Platformer\\', \\'Publisher\\': \\'Nintendo\\', \\'Description\\': \"A groundbreaking 3D platformer that set new standards for the genre, featuring Mario\\'s quest to rescue Princess Peach.\", \\'Name\\': \\'Super Mario 64\\'}']}\n",
      "[StateMachine] Executing step: [tool_executor] -> Response: [role='tool' content='\"{\\'role\\': \\'assistant\\', \\'content\\': \\'{\\\\\"useful\\\\\":true,\\\\\"description\\\\\":\\\\\"The retrieved document provides specific information about \\\\\\\\\\'Super Mario 64\\\\\\\\\\', which is identified as a 3D platformer released in 1996 for the Nintendo 64. It explicitly states that this game is a groundbreaking 3D platformer and mentions Mario\\\\\\\\\\'s quest to rescue Princess Peach, which is a central theme of the game. Since \\\\\\\\\\'Super Mario 64\\\\\\\\\\' is widely recognized as the first 3D platformer featuring Mario, the document sufficiently answers the user\\\\\\\\\\'s query regarding which was the first 3D platformer Mario game.\\\\\"}\\', \\'tool_calls\\': None, \\'token_usage\\': {\\'prompt_tokens\\': 229, \\'completion_tokens\\': 117, \\'total_tokens\\': 346}}\"' tool_call_id='call_3JAnjwx2RJKpoyfvhnlDsEuY' name='evaluate_retrieval'] -> Next step: ['llm_processor'] \n",
      "\n",
      "[StateMachine] Executing step: [llm_processor] -> Response: [role='assistant' content='The first 3D platformer Mario game was \"Super Mario 64,\" released in 1996 for the Nintendo 64. It was a groundbreaking game that set new standards for the genre, featuring Mario\\'s quest to rescue Princess Peach.\\n\\nSource: Retrieved from internal game database.' tool_calls=None token_usage=None] -> Next step: ['__termination__'] \n",
      "\n",
      "[StateMachine] Terminating: __termination__\n",
      "Final Answer:\n",
      "The first 3D platformer Mario game was \"Super Mario 64,\" released in 1996 for the Nintendo 64. It was a groundbreaking game that set new standards for the genre, featuring Mario's quest to rescue Princess Peach.\n",
      "\n",
      "Source: Retrieved from internal game database.\n",
      "\n",
      "--- Run complete. Total tokens: 4496 ---\n",
      "\n"
     ]
    }
   ],
   "execution_count": 10
  },
  {
   "metadata": {
    "ExecuteTime": {
     "end_time": "2025-09-28T01:59:30.365233Z",
     "start_time": "2025-09-28T01:59:16.548370Z"
    }
   },
   "cell_type": "code",
   "source": "run_agent(\"Was Mortal Kombat X realeased for Playstation 5?\")",
   "id": "568834e0163051ac",
   "outputs": [
    {
     "name": "stdout",
     "output_type": "stream",
     "text": [
      "--- Running agent for: 'Was Mortal Kombat X realeased for Playstation 5?' ---\n",
      "\n",
      "[StateMachine] Starting: __entry__ -> Next step: ['message_prep'] \n",
      "\n",
      "[StateMachine] Executing step: [message_prep] -> Response: [role='user' content='Was Mortal Kombat X realeased for Playstation 5?'] -> Next step: ['llm_processor'] \n",
      "\n",
      "[StateMachine] Executing step: [llm_processor] -> Response: [role='assistant' content=None tool_calls=[ChatCompletionMessageFunctionToolCall(id='call_Rfr9SEZqNYmPB5X1DesQv4U9', function=Function(arguments='{\"query\":\"Mortal Kombat X release for Playstation 5\"}', name='retrieve_game'), type='function')] token_usage=None] -> Next step: ['tool_executor'] \n",
      "\n",
      "[Tool Calling] Name: retrieve_game - Params: {'query': 'Mortal Kombat X release for Playstation 5'}\n",
      "[StateMachine] Executing step: [tool_executor] -> Response: [role='tool' content='\"[{\\'Platform\\': \\'PlayStation 5\\', \\'YearOfRelease\\': 2023, \\'Publisher\\': \\'Sony Interactive Entertainment\\', \\'Genre\\': \\'Action-adventure\\', \\'Description\\': \\'The sequel to the acclaimed Spider-Man game, featuring both Peter Parker and Miles Morales as playable characters.\\', \\'Name\\': \\\\\"Marvel\\'s Spider-Man 2\\\\\"}, {\\'Platform\\': \\'PlayStation 4\\', \\'Genre\\': \\'Action-adventure\\', \\'Publisher\\': \\'Sony Interactive Entertainment\\', \\'Description\\': \\'An open-world superhero game that lets players swing through New York City as Spider-Man, battling iconic villains.\\', \\'YearOfRelease\\': 2018, \\'Name\\': \\\\\"Marvel\\'s Spider-Man\\\\\"}, {\\'YearOfRelease\\': 2021, \\'Name\\': \\'Halo Infinite\\', \\'Publisher\\': \\'Xbox Game Studios\\', \\'Description\\': \\\\\"The latest installment in the Halo franchise, featuring Master Chief\\'s return in a new open-world setting.\\\\\", \\'Platform\\': \\'Xbox Series X|S\\', \\'Genre\\': \\'First-person shooter\\'}, {\\'Genre\\': \\'Racing\\', \\'Platform\\': \\'PlayStation 3\\', \\'Name\\': \\'Gran Turismo 5\\', \\'Publisher\\': \\'Sony Computer Entertainment\\', \\'YearOfRelease\\': 2010, \\'Description\\': \\'A comprehensive racing simulator featuring a vast selection of vehicles and tracks, with realistic driving physics.\\'}, {\\'Platform\\': \\'PlayStation 1\\', \\'Genre\\': \\'Racing\\', \\'Publisher\\': \\'Sony Computer Entertainment\\', \\'YearOfRelease\\': 1997, \\'Description\\': \\'A realistic racing simulator featuring a wide array of cars and tracks, setting a new standard for the genre.\\', \\'Name\\': \\'Gran Turismo\\'}]\"' tool_call_id='call_Rfr9SEZqNYmPB5X1DesQv4U9' name='retrieve_game'] -> Next step: ['llm_processor'] \n",
      "\n",
      "[StateMachine] Executing step: [llm_processor] -> Response: [role='assistant' content=None tool_calls=[ChatCompletionMessageFunctionToolCall(id='call_H0kI4K8Qfrdcmc8RtxEtkcoN', function=Function(arguments='{\"question\":\"Was Mortal Kombat X released for Playstation 5?\",\"retrieved_docs\":[\"{\\'Platform\\': \\'PlayStation 5\\', \\'YearOfRelease\\': 2023, \\'Publisher\\': \\'Sony Interactive Entertainment\\', \\'Genre\\': \\'Action-adventure\\', \\'Description\\': \\'The sequel to the acclaimed Spider-Man game, featuring both Peter Parker and Miles Morales as playable characters.\\', \\'Name\\': \\\\\"Marvel\\'s Spider-Man 2\\\\\"}\"]}', name='evaluate_retrieval'), type='function')] token_usage=None] -> Next step: ['tool_executor'] \n",
      "\n",
      "[Tool Calling] Name: evaluate_retrieval - Params: {'question': 'Was Mortal Kombat X released for Playstation 5?', 'retrieved_docs': ['{\\'Platform\\': \\'PlayStation 5\\', \\'YearOfRelease\\': 2023, \\'Publisher\\': \\'Sony Interactive Entertainment\\', \\'Genre\\': \\'Action-adventure\\', \\'Description\\': \\'The sequel to the acclaimed Spider-Man game, featuring both Peter Parker and Miles Morales as playable characters.\\', \\'Name\\': \"Marvel\\'s Spider-Man 2\"}']}\n",
      "[StateMachine] Executing step: [tool_executor] -> Response: [role='tool' content='\"{\\'role\\': \\'assistant\\', \\'content\\': \\'{\\\\\"useful\\\\\":false,\\\\\"description\\\\\":\\\\\"The retrieved document does not contain any information about Mortal Kombat X or its release on PlayStation 5. Instead, it discusses a different game, Marvel\\\\\\\\\\'s Spider-Man 2, which is unrelated to the user\\\\\\\\\\'s query. Therefore, the document is not useful for answering whether Mortal Kombat X was released for PlayStation 5.\\\\\"}\\', \\'tool_calls\\': None, \\'token_usage\\': {\\'prompt_tokens\\': 228, \\'completion_tokens\\': 76, \\'total_tokens\\': 304}}\"' tool_call_id='call_H0kI4K8Qfrdcmc8RtxEtkcoN' name='evaluate_retrieval'] -> Next step: ['llm_processor'] \n",
      "\n",
      "[StateMachine] Executing step: [llm_processor] -> Response: [role='assistant' content=None tool_calls=[ChatCompletionMessageFunctionToolCall(id='call_V4h6iM0OVyU9BJ6q8iyW8OGl', function=Function(arguments='{\"question\":\"Was Mortal Kombat X released for Playstation 5?\"}', name='game_web_search'), type='function')] token_usage=None] -> Next step: ['tool_executor'] \n",
      "\n",
      "[Tool Calling] Name: game_web_search - Params: {'question': 'Was Mortal Kombat X released for Playstation 5?'}\n",
      "[StateMachine] Executing step: [tool_executor] -> Response: [role='tool' content='\"[{\\'url\\': \\'https://www.youtube.com/watch?v=tqsw711ZuAk\\', \\'title\\': \\'Mortal Kombat X - PS5 Gameplay - YouTube\\', \\'content\\': \\'Mortal Kombat X is a 2015 fighting game developed by NetherRealm Studios and published by Warner Bros. Interactive Entertainment for Microsoft Windows, PlayStation 4, and Xbox One. It is the tenth main installment in the Mortal Kombat series and a sequel to Mortal Kombat (2011), taking place 25 years later after the events of its predecessor. High Voltage Software developed the Windows version of the game, with Polish studio QLOC taking over the work on it shortly after the release of Kombat [...] Who\\\\u2019s Next? Experience the Next Generation of the 1 Fighting Franchise.\\\\\\\\n\\\\\\\\nMortal Kombat X combines unparalleled, cinematic presentation with all new gameplay. For the first time, players can choose from multiple variations of each character impacting both strategy and fighting style.\\\\\\\\n\\\\\\\\n#ps5gameplay\\\\\\\\n\\\\\\\\n3 comments\\\\\\\\n### Transcript: [...] # Mortal Kombat X - PS5 Gameplay\\\\\\\\n## Section Plays\\\\\\\\n177000 subscribers\\\\\\\\n26 likes\\\\\\\\n\\\\\\\\n### Description\\\\\\\\n2355 views\\\\\\\\nPosted: 4 Jun 2025\\\\\\\\nMortal Kombat X - PS5 Gameplay\\', \\'score\\': 0.85995835, \\'raw_content\\': None}, {\\'url\\': \\'https://store.playstation.com/en-us/product/UP1018-CUSA00967_00-MORTALKOMBATX000\\', \\'title\\': \\'Mortal Kombat X - PlayStation Store\\', \\'content\\': \\'To play this game on PS5, your system may need to be updated to the latest system software. Although this game is playable on PS5, some features available on PS4 may be absent. See PlayStation.com/bc for more details.  \\\\\\\\n  \\\\\\\\nOnline features require an account and are subject to terms of service and applicable privacy policy (playstationnetwork.com/terms-of-service & playstationnetwork.com/privacy-policy).   \\\\\\\\n  \\\\\\\\nSoftware subject to license (us.playstation.com/softwarelicense). [...] Release:\\\\\\\\n:   4/14/2015\\\\\\\\n\\\\\\\\nPublisher:\\\\\\\\n:   Warner Bros. Interactive\\\\\\\\n\\\\\\\\nGenres:\\\\\\\\n:   Fighting, Fighting\\\\\\\\n\\\\\\\\nVoice:\\\\\\\\n:   English, French (France), German, Italian, Portuguese (Brazil), Spanish (Mexico)\\\\\\\\n\\\\\\\\nScreen Languages:\\\\\\\\n:   English, French (France), German, Italian, Polish, Portuguese (Brazil), Russian, Spanish (Mexico)\\', \\'score\\': 0.75421005, \\'raw_content\\': None}, {\\'url\\': \\'https://mortalkombat.fandom.com/wiki/Mortal_Kombat_X\\', \\'title\\': \\'Mortal Kombat X\\', \\'content\\': \\\\\"Mortal Kombat X is both the 10th fighting game and the 21st installment in the Mortal Kombat series. It was developed by NetherRealm Studios for PlayStation 4 and Xbox One and by High Voltage Software and later QLOC S.A. for PC. The current-generation console versions were released on April 14, 2015. [...] Mortal Kombat X is the first game in the Mortal Kombat series to come to PlayStation 4 and Xbox One.\\\\\\\\n  + It\\'s also the first game in the main series to come to Steam on the primary release date.\\\\\\\\n This game marks the first appearance/usage of variations. [...] On August 28th, 2015, it was announced that the PlayStation 3 and Xbox 360 ports of the game had been cancelled. \\\\\\\\n\\\\\\\\n## Trivia\\\\\", \\'score\\': 0.7380092, \\'raw_content\\': None}, {\\'url\\': \\'https://www.playstation.com/en-us/games/mortal-kombat-x_msm_moved/\\', \\'title\\': \\'Mortal Kombat X - PlayStation\\', \\'content\\': \\'To play this game on PS5, your system may need to be updated to the latest system software. Although this game is playable on PS5, some features available on PS4 may be absent. See PlayStation.com/bc for more details.Online features require an account and are subject to terms of service and applicable privacy policy (playstationnetwork.com/terms-of-service & playstationnetwork.com/privacy-policy). Software subject to license (us.playstation.com/softwarelicense).One-time license fee for play on [...] Who\\\\u2019s Next? Experience the Next Generation of the 1 Fighting Franchise. Mortal Kombat X combines unparalleled, cinematic presentation with all new gameplay. For the first time, players can choose from multiple variations of each character impacting both strategy and fighting style.\\\\\\\\n\\\\\\\\n## Editions:\\\\\\\\n\\\\\\\\nMortal Kombat XL\\\\\\\\n\\\\\\\\n### Mortal Kombat XL\\\\\\\\n\\\\\\\\nMortal Kombat X\\\\\\\\n\\\\\\\\n### Mortal Kombat X\\\\\\\\n\\\\\\\\nPlatform:\\\\\\\\n:   PS4\\\\\\\\n\\\\\\\\nRelease:\\\\\\\\n:   4/14/2015\\\\\\\\n\\\\\\\\nPublisher:\\\\\\\\n:   Warner Bros. Interactive\\\\\\\\n\\\\\\\\nGenres:\\\\\\\\n:   Fighting, Fighting [...] Voice:\\\\\\\\n:   English, French (France), German, Italian, Portuguese (Brazil), Spanish (Mexico)\\\\\\\\n\\\\\\\\nScreen Languages:\\\\\\\\n:   English, French (France), German, Italian, Polish, Portuguese (Brazil), Russian, Spanish (Mexico)\\', \\'score\\': 0.6947383, \\'raw_content\\': None}, {\\'url\\': \\'https://www.psu.com/news/mortal-kombat-legacy-kollection-releases-october-30-2025/\\', \\'title\\': \\'Mortal Kombat: Legacy Kollection PS4, PS5 Release Confirmed For ...\\', \\'content\\': \\'Mortal Kombat: Legacy Kollection has finally been given a release date of October 30, 2025 on PS4 and PS5. The collection of games includes every mainline Mortal Kombat game from the early \\\\u201990s to the end of the PlayStation era, compiled into one collection. [...] Home\\\\\\\\n PS5\\\\\\\\n PS Plus\\\\\\\\n News\\\\\\\\n Features\\\\\\\\n Guides\\\\\\\\n Reviews\\\\\\\\n Games\\\\\\\\n Wallpapers\\\\\\\\n\\\\\\\\nMortal Kombat: Legacy Kollection Mortal Kombat: Legacy Kollection releases October 30 2025 News\\\\\\\\n\\\\\\\\n# Mortal Kombat: Legacy Kollection PS4, PS5 Release Confirmed For October 2025 [...] Related Content \\\\u2013 Upcoming PS5 Games 2025: The Best PS5 Games Coming Soon\\\\\\\\n\\\\\\\\nMultiple versions of some games will also be available, depending on the console they were released on. These consoles range from the Sega Genesis/Mega-Drive, SNES, Game Boy, Arcade, Game Boy Advance, 32X, and Game Gear.\\', \\'score\\': 0.6899958, \\'raw_content\\': None}]\"' tool_call_id='call_V4h6iM0OVyU9BJ6q8iyW8OGl' name='game_web_search'] -> Next step: ['llm_processor'] \n",
      "\n",
      "[StateMachine] Executing step: [llm_processor] -> Response: [role='assistant' content='Mortal Kombat X was originally released on April 14, 2015, for PlayStation 4, Xbox One, and Microsoft Windows. It is playable on PlayStation 5 through backward compatibility, but it was not specifically released for the PlayStation 5 with any enhancements exclusive to that platform. Some features available on the PS4 version may not be present when played on the PS5.\\n\\nSources:\\n- [PlayStation Store](https://store.playstation.com/en-us/product/UP1018-CUSA00967_00-MORTALKOMBATX000)\\n- [PlayStation Official](https://www.playstation.com/en-us/games/mortal-kombat-x_msm_moved/)' tool_calls=None token_usage=None] -> Next step: ['__termination__'] \n",
      "\n",
      "[StateMachine] Terminating: __termination__\n",
      "Final Answer:\n",
      "Mortal Kombat X was originally released on April 14, 2015, for PlayStation 4, Xbox One, and Microsoft Windows. It is playable on PlayStation 5 through backward compatibility, but it was not specifically released for the PlayStation 5 with any enhancements exclusive to that platform. Some features available on the PS4 version may not be present when played on the PS5.\n",
      "\n",
      "Sources:\n",
      "- [PlayStation Store](https://store.playstation.com/en-us/product/UP1018-CUSA00967_00-MORTALKOMBATX000)\n",
      "- [PlayStation Official](https://www.playstation.com/en-us/games/mortal-kombat-x_msm_moved/)\n",
      "\n",
      "--- Run complete. Total tokens: 10638 ---\n",
      "\n"
     ]
    }
   ],
   "execution_count": 11
  },
  {
   "cell_type": "markdown",
   "id": "f0a55081",
   "metadata": {},
   "source": [
    "### (Optional) Advanced"
   ]
  },
  {
   "cell_type": "code",
   "id": "eb83fbb1",
   "metadata": {
    "ExecuteTime": {
     "end_time": "2025-09-28T01:59:30.375667Z",
     "start_time": "2025-09-28T01:59:30.372989Z"
    }
   },
   "source": [
    "# TODO: Update your agent with long-term memory\n",
    "# TODO: Convert the agent to be a state machine, with the tools being pre-defined nodes"
   ],
   "outputs": [],
   "execution_count": 12
  }
 ],
 "metadata": {
  "kernelspec": {
   "display_name": "Python 3 (ipykernel)",
   "language": "python",
   "name": "python3"
  },
  "language_info": {
   "codemirror_mode": {
    "name": "ipython",
    "version": 3
   },
   "file_extension": ".py",
   "mimetype": "text/x-python",
   "name": "python",
   "nbconvert_exporter": "python",
   "pygments_lexer": "ipython3",
   "version": "3.11.0"
  }
 },
 "nbformat": 4,
 "nbformat_minor": 5
}
